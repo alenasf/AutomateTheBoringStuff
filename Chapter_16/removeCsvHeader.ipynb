{
 "cells": [
  {
   "cell_type": "code",
   "execution_count": 5,
   "metadata": {},
   "outputs": [
    {
     "name": "stdout",
     "output_type": "stream",
     "text": [
      "Removing header from example.csv...\n",
      "Removing header from output.csv...\n",
      "Removing header from exampleWithHeader.csv...\n"
     ]
    }
   ],
   "source": [
    "# removeCsvHeader.py = Removes the header from all CSV files in the current working directory.\n",
    "import csv, os\n",
    "\n",
    "os.makedirs('headerRemoved', exist_ok=True)\n",
    "\n",
    "# Step 1: Loop Through Each CSV File\n",
    "for csvFilename in os.listdir('.'):\n",
    "    if not csvFilename.endswith('.csv'):\n",
    "        continue # skip non-csv files\n",
    "    \n",
    "    print('Removing header from ' + csvFilename + '...')"
   ]
  },
  {
   "cell_type": "code",
   "execution_count": 6,
   "metadata": {},
   "outputs": [],
   "source": [
    "# Step 2: Read in the CSV File(skipping first row).\n",
    "csvRows = []\n",
    "csvFileObj = open(csvFilename)\n",
    "readerObj = csv.reader(csvFileObj)\n",
    "for row in readerObj:\n",
    "    if readerObj.line_num ==1:\n",
    "        continue # skip first row\n",
    "    csvRows.append(row)\n",
    "csvFileObj.close()"
   ]
  },
  {
   "cell_type": "code",
   "execution_count": 7,
   "metadata": {},
   "outputs": [],
   "source": [
    "# Step 3: Write Out the CSV File Without the First Row.\n",
    "csvFileObj = open(os.path.join('headerRemoved', csvFilename), 'w', newline='')\n",
    "csvWriter = csv.writer(csvFileObj)\n",
    "for row in csvRows:\n",
    "    csvWriter.writerow(row)\n",
    "csvFileObj.close()\n"
   ]
  }
 ],
 "metadata": {
  "kernelspec": {
   "display_name": "Python 3",
   "language": "python",
   "name": "python3"
  },
  "language_info": {
   "codemirror_mode": {
    "name": "ipython",
    "version": 3
   },
   "file_extension": ".py",
   "mimetype": "text/x-python",
   "name": "python",
   "nbconvert_exporter": "python",
   "pygments_lexer": "ipython3",
   "version": "3.7.6"
  }
 },
 "nbformat": 4,
 "nbformat_minor": 4
}
